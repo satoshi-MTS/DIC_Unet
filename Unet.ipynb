{
 "cells": [
  {
   "cell_type": "markdown",
   "metadata": {},
   "source": [
    "# モデルの作成"
   ]
  },
  {
   "cell_type": "code",
   "execution_count": 1,
   "metadata": {
    "tags": []
   },
   "outputs": [
    {
     "name": "stdout",
     "output_type": "stream",
     "text": [
      "Using TensorFlow backend.\n",
      "WARNING:tensorflow:From /opt/anaconda3/envs/sinpson/lib/python3.6/site-packages/keras/backend/tensorflow_backend.py:74: The name tf.get_default_graph is deprecated. Please use tf.compat.v1.get_default_graph instead.\n",
      "\n",
      "WARNING:tensorflow:From /opt/anaconda3/envs/sinpson/lib/python3.6/site-packages/keras/backend/tensorflow_backend.py:517: The name tf.placeholder is deprecated. Please use tf.compat.v1.placeholder instead.\n",
      "\n",
      "WARNING:tensorflow:From /opt/anaconda3/envs/sinpson/lib/python3.6/site-packages/keras/backend/tensorflow_backend.py:4185: The name tf.truncated_normal is deprecated. Please use tf.random.truncated_normal instead.\n",
      "\n",
      "WARNING:tensorflow:From /opt/anaconda3/envs/sinpson/lib/python3.6/site-packages/keras/backend/tensorflow_backend.py:3976: The name tf.nn.max_pool is deprecated. Please use tf.nn.max_pool2d instead.\n",
      "\n",
      "WARNING:tensorflow:From /opt/anaconda3/envs/sinpson/lib/python3.6/site-packages/keras/backend/tensorflow_backend.py:133: The name tf.placeholder_with_default is deprecated. Please use tf.compat.v1.placeholder_with_default instead.\n",
      "\n",
      "WARNING:tensorflow:From /opt/anaconda3/envs/sinpson/lib/python3.6/site-packages/keras/backend/tensorflow_backend.py:3445: calling dropout (from tensorflow.python.ops.nn_ops) with keep_prob is deprecated and will be removed in a future version.\n",
      "Instructions for updating:\n",
      "Please use `rate` instead of `keep_prob`. Rate should be set to `rate = 1 - keep_prob`.\n",
      "WARNING:tensorflow:From /opt/anaconda3/envs/sinpson/lib/python3.6/site-packages/keras/backend/tensorflow_backend.py:2018: The name tf.image.resize_nearest_neighbor is deprecated. Please use tf.compat.v1.image.resize_nearest_neighbor instead.\n",
      "\n",
      "WARNING:tensorflow:From /opt/anaconda3/envs/sinpson/lib/python3.6/site-packages/keras/backend/tensorflow_backend.py:4138: The name tf.random_uniform is deprecated. Please use tf.random.uniform instead.\n",
      "\n",
      "/Users/matsusesatoshi/DIVE_2/Unet/model.py:55: UserWarning: Update your `Model` call to the Keras 2 API: `Model(inputs=Tensor(\"in..., outputs=Tensor(\"co...)`\n",
      "  model = Model(input = inputs, output = conv10)\n",
      "WARNING:tensorflow:From /opt/anaconda3/envs/sinpson/lib/python3.6/site-packages/keras/optimizers.py:790: The name tf.train.Optimizer is deprecated. Please use tf.compat.v1.train.Optimizer instead.\n",
      "\n",
      "WARNING:tensorflow:From /opt/anaconda3/envs/sinpson/lib/python3.6/site-packages/keras/backend/tensorflow_backend.py:3376: The name tf.log is deprecated. Please use tf.math.log instead.\n",
      "\n",
      "WARNING:tensorflow:From /opt/anaconda3/envs/sinpson/lib/python3.6/site-packages/tensorflow_core/python/ops/nn_impl.py:183: where (from tensorflow.python.ops.array_ops) is deprecated and will be removed in a future version.\n",
      "Instructions for updating:\n",
      "Use tf.where in 2.0, which has the same broadcast rule as np.where\n",
      "WARNING:tensorflow:From /opt/anaconda3/envs/sinpson/lib/python3.6/site-packages/keras/backend/tensorflow_backend.py:986: The name tf.assign_add is deprecated. Please use tf.compat.v1.assign_add instead.\n",
      "\n",
      "WARNING:tensorflow:From /opt/anaconda3/envs/sinpson/lib/python3.6/site-packages/keras/backend/tensorflow_backend.py:973: The name tf.assign is deprecated. Please use tf.compat.v1.assign instead.\n",
      "\n",
      "WARNING:tensorflow:From /opt/anaconda3/envs/sinpson/lib/python3.6/site-packages/keras/backend/tensorflow_backend.py:2741: The name tf.Session is deprecated. Please use tf.compat.v1.Session instead.\n",
      "\n",
      "Epoch 1/1\n",
      "Found 30 images belonging to 1 classes.\n",
      "Found 30 images belonging to 1 classes.\n",
      "WARNING:tensorflow:From /opt/anaconda3/envs/sinpson/lib/python3.6/site-packages/keras/backend/tensorflow_backend.py:174: The name tf.get_default_session is deprecated. Please use tf.compat.v1.get_default_session instead.\n",
      "\n",
      "WARNING:tensorflow:From /opt/anaconda3/envs/sinpson/lib/python3.6/site-packages/keras/backend/tensorflow_backend.py:181: The name tf.ConfigProto is deprecated. Please use tf.compat.v1.ConfigProto instead.\n",
      "\n",
      "2021-09-03 22:51:06.260237: I tensorflow/core/platform/cpu_feature_guard.cc:142] Your CPU supports instructions that this TensorFlow binary was not compiled to use: AVX2 FMA\n",
      "2021-09-03 22:51:06.315805: I tensorflow/compiler/xla/service/service.cc:168] XLA service 0x7fdee2954770 initialized for platform Host (this does not guarantee that XLA will be used). Devices:\n",
      "2021-09-03 22:51:06.315871: I tensorflow/compiler/xla/service/service.cc:176]   StreamExecutor device (0): Host, Default Version\n",
      "WARNING:tensorflow:From /opt/anaconda3/envs/sinpson/lib/python3.6/site-packages/keras/backend/tensorflow_backend.py:190: The name tf.global_variables is deprecated. Please use tf.compat.v1.global_variables instead.\n",
      "\n",
      "WARNING:tensorflow:From /opt/anaconda3/envs/sinpson/lib/python3.6/site-packages/keras/backend/tensorflow_backend.py:199: The name tf.is_variable_initialized is deprecated. Please use tf.compat.v1.is_variable_initialized instead.\n",
      "\n",
      "WARNING:tensorflow:From /opt/anaconda3/envs/sinpson/lib/python3.6/site-packages/keras/backend/tensorflow_backend.py:206: The name tf.variables_initializer is deprecated. Please use tf.compat.v1.variables_initializer instead.\n",
      "\n",
      "300/300 [==============================] - 1060s 4s/step - loss: 0.6895 - acc: 0.7794\n",
      "\n",
      "Epoch 00001: loss improved from inf to 0.68949, saving model to unet_membrane.hdf5\n",
      "30/30 [==============================] - 13s 434ms/step\n",
      "/Users/matsusesatoshi/DIVE_2/Unet/data.py:124: UserWarning: data/membrane/test/0_predict.png is a low contrast image\n",
      "  io.imsave(os.path.join(save_path,\"%d_predict.png\"%i),img)\n",
      "Lossy conversion from float32 to uint8. Range [0, 1]. Convert image to uint8 prior to saving to suppress this warning.\n",
      "/Users/matsusesatoshi/DIVE_2/Unet/data.py:124: UserWarning: data/membrane/test/1_predict.png is a low contrast image\n",
      "  io.imsave(os.path.join(save_path,\"%d_predict.png\"%i),img)\n",
      "Lossy conversion from float32 to uint8. Range [0, 1]. Convert image to uint8 prior to saving to suppress this warning.\n",
      "/Users/matsusesatoshi/DIVE_2/Unet/data.py:124: UserWarning: data/membrane/test/2_predict.png is a low contrast image\n",
      "  io.imsave(os.path.join(save_path,\"%d_predict.png\"%i),img)\n",
      "Lossy conversion from float32 to uint8. Range [0, 1]. Convert image to uint8 prior to saving to suppress this warning.\n",
      "/Users/matsusesatoshi/DIVE_2/Unet/data.py:124: UserWarning: data/membrane/test/3_predict.png is a low contrast image\n",
      "  io.imsave(os.path.join(save_path,\"%d_predict.png\"%i),img)\n",
      "Lossy conversion from float32 to uint8. Range [0, 1]. Convert image to uint8 prior to saving to suppress this warning.\n",
      "/Users/matsusesatoshi/DIVE_2/Unet/data.py:124: UserWarning: data/membrane/test/4_predict.png is a low contrast image\n",
      "  io.imsave(os.path.join(save_path,\"%d_predict.png\"%i),img)\n",
      "Lossy conversion from float32 to uint8. Range [0, 1]. Convert image to uint8 prior to saving to suppress this warning.\n",
      "/Users/matsusesatoshi/DIVE_2/Unet/data.py:124: UserWarning: data/membrane/test/5_predict.png is a low contrast image\n",
      "  io.imsave(os.path.join(save_path,\"%d_predict.png\"%i),img)\n",
      "Lossy conversion from float32 to uint8. Range [0, 1]. Convert image to uint8 prior to saving to suppress this warning.\n",
      "/Users/matsusesatoshi/DIVE_2/Unet/data.py:124: UserWarning: data/membrane/test/6_predict.png is a low contrast image\n",
      "  io.imsave(os.path.join(save_path,\"%d_predict.png\"%i),img)\n",
      "Lossy conversion from float32 to uint8. Range [0, 1]. Convert image to uint8 prior to saving to suppress this warning.\n",
      "/Users/matsusesatoshi/DIVE_2/Unet/data.py:124: UserWarning: data/membrane/test/7_predict.png is a low contrast image\n",
      "  io.imsave(os.path.join(save_path,\"%d_predict.png\"%i),img)\n",
      "Lossy conversion from float32 to uint8. Range [0, 1]. Convert image to uint8 prior to saving to suppress this warning.\n",
      "/Users/matsusesatoshi/DIVE_2/Unet/data.py:124: UserWarning: data/membrane/test/8_predict.png is a low contrast image\n",
      "  io.imsave(os.path.join(save_path,\"%d_predict.png\"%i),img)\n",
      "Lossy conversion from float32 to uint8. Range [0, 1]. Convert image to uint8 prior to saving to suppress this warning.\n",
      "/Users/matsusesatoshi/DIVE_2/Unet/data.py:124: UserWarning: data/membrane/test/9_predict.png is a low contrast image\n",
      "  io.imsave(os.path.join(save_path,\"%d_predict.png\"%i),img)\n",
      "Lossy conversion from float32 to uint8. Range [0, 1]. Convert image to uint8 prior to saving to suppress this warning.\n",
      "/Users/matsusesatoshi/DIVE_2/Unet/data.py:124: UserWarning: data/membrane/test/10_predict.png is a low contrast image\n",
      "  io.imsave(os.path.join(save_path,\"%d_predict.png\"%i),img)\n",
      "Lossy conversion from float32 to uint8. Range [0, 1]. Convert image to uint8 prior to saving to suppress this warning.\n",
      "/Users/matsusesatoshi/DIVE_2/Unet/data.py:124: UserWarning: data/membrane/test/11_predict.png is a low contrast image\n",
      "  io.imsave(os.path.join(save_path,\"%d_predict.png\"%i),img)\n",
      "Lossy conversion from float32 to uint8. Range [0, 1]. Convert image to uint8 prior to saving to suppress this warning.\n",
      "/Users/matsusesatoshi/DIVE_2/Unet/data.py:124: UserWarning: data/membrane/test/12_predict.png is a low contrast image\n",
      "  io.imsave(os.path.join(save_path,\"%d_predict.png\"%i),img)\n",
      "Lossy conversion from float32 to uint8. Range [0, 1]. Convert image to uint8 prior to saving to suppress this warning.\n",
      "/Users/matsusesatoshi/DIVE_2/Unet/data.py:124: UserWarning: data/membrane/test/13_predict.png is a low contrast image\n",
      "  io.imsave(os.path.join(save_path,\"%d_predict.png\"%i),img)\n",
      "Lossy conversion from float32 to uint8. Range [0, 1]. Convert image to uint8 prior to saving to suppress this warning.\n",
      "/Users/matsusesatoshi/DIVE_2/Unet/data.py:124: UserWarning: data/membrane/test/14_predict.png is a low contrast image\n",
      "  io.imsave(os.path.join(save_path,\"%d_predict.png\"%i),img)\n",
      "Lossy conversion from float32 to uint8. Range [0, 1]. Convert image to uint8 prior to saving to suppress this warning.\n",
      "/Users/matsusesatoshi/DIVE_2/Unet/data.py:124: UserWarning: data/membrane/test/15_predict.png is a low contrast image\n",
      "  io.imsave(os.path.join(save_path,\"%d_predict.png\"%i),img)\n",
      "Lossy conversion from float32 to uint8. Range [0, 1]. Convert image to uint8 prior to saving to suppress this warning.\n",
      "/Users/matsusesatoshi/DIVE_2/Unet/data.py:124: UserWarning: data/membrane/test/16_predict.png is a low contrast image\n",
      "  io.imsave(os.path.join(save_path,\"%d_predict.png\"%i),img)\n",
      "Lossy conversion from float32 to uint8. Range [0, 1]. Convert image to uint8 prior to saving to suppress this warning.\n",
      "/Users/matsusesatoshi/DIVE_2/Unet/data.py:124: UserWarning: data/membrane/test/17_predict.png is a low contrast image\n",
      "  io.imsave(os.path.join(save_path,\"%d_predict.png\"%i),img)\n",
      "Lossy conversion from float32 to uint8. Range [0, 1]. Convert image to uint8 prior to saving to suppress this warning.\n",
      "/Users/matsusesatoshi/DIVE_2/Unet/data.py:124: UserWarning: data/membrane/test/18_predict.png is a low contrast image\n",
      "  io.imsave(os.path.join(save_path,\"%d_predict.png\"%i),img)\n",
      "Lossy conversion from float32 to uint8. Range [0, 1]. Convert image to uint8 prior to saving to suppress this warning.\n",
      "/Users/matsusesatoshi/DIVE_2/Unet/data.py:124: UserWarning: data/membrane/test/19_predict.png is a low contrast image\n",
      "  io.imsave(os.path.join(save_path,\"%d_predict.png\"%i),img)\n",
      "Lossy conversion from float32 to uint8. Range [0, 1]. Convert image to uint8 prior to saving to suppress this warning.\n",
      "/Users/matsusesatoshi/DIVE_2/Unet/data.py:124: UserWarning: data/membrane/test/20_predict.png is a low contrast image\n",
      "  io.imsave(os.path.join(save_path,\"%d_predict.png\"%i),img)\n",
      "Lossy conversion from float32 to uint8. Range [0, 1]. Convert image to uint8 prior to saving to suppress this warning.\n",
      "/Users/matsusesatoshi/DIVE_2/Unet/data.py:124: UserWarning: data/membrane/test/21_predict.png is a low contrast image\n",
      "  io.imsave(os.path.join(save_path,\"%d_predict.png\"%i),img)\n",
      "Lossy conversion from float32 to uint8. Range [0, 1]. Convert image to uint8 prior to saving to suppress this warning.\n",
      "/Users/matsusesatoshi/DIVE_2/Unet/data.py:124: UserWarning: data/membrane/test/22_predict.png is a low contrast image\n",
      "  io.imsave(os.path.join(save_path,\"%d_predict.png\"%i),img)\n",
      "Lossy conversion from float32 to uint8. Range [0, 1]. Convert image to uint8 prior to saving to suppress this warning.\n",
      "/Users/matsusesatoshi/DIVE_2/Unet/data.py:124: UserWarning: data/membrane/test/23_predict.png is a low contrast image\n",
      "  io.imsave(os.path.join(save_path,\"%d_predict.png\"%i),img)\n",
      "Lossy conversion from float32 to uint8. Range [0, 1]. Convert image to uint8 prior to saving to suppress this warning.\n",
      "/Users/matsusesatoshi/DIVE_2/Unet/data.py:124: UserWarning: data/membrane/test/24_predict.png is a low contrast image\n",
      "  io.imsave(os.path.join(save_path,\"%d_predict.png\"%i),img)\n",
      "Lossy conversion from float32 to uint8. Range [0, 1]. Convert image to uint8 prior to saving to suppress this warning.\n",
      "/Users/matsusesatoshi/DIVE_2/Unet/data.py:124: UserWarning: data/membrane/test/25_predict.png is a low contrast image\n",
      "  io.imsave(os.path.join(save_path,\"%d_predict.png\"%i),img)\n",
      "Lossy conversion from float32 to uint8. Range [0, 1]. Convert image to uint8 prior to saving to suppress this warning.\n",
      "/Users/matsusesatoshi/DIVE_2/Unet/data.py:124: UserWarning: data/membrane/test/26_predict.png is a low contrast image\n",
      "  io.imsave(os.path.join(save_path,\"%d_predict.png\"%i),img)\n",
      "Lossy conversion from float32 to uint8. Range [0, 1]. Convert image to uint8 prior to saving to suppress this warning.\n",
      "/Users/matsusesatoshi/DIVE_2/Unet/data.py:124: UserWarning: data/membrane/test/27_predict.png is a low contrast image\n",
      "  io.imsave(os.path.join(save_path,\"%d_predict.png\"%i),img)\n",
      "Lossy conversion from float32 to uint8. Range [0, 1]. Convert image to uint8 prior to saving to suppress this warning.\n",
      "/Users/matsusesatoshi/DIVE_2/Unet/data.py:124: UserWarning: data/membrane/test/28_predict.png is a low contrast image\n",
      "  io.imsave(os.path.join(save_path,\"%d_predict.png\"%i),img)\n",
      "Lossy conversion from float32 to uint8. Range [0, 1]. Convert image to uint8 prior to saving to suppress this warning.\n",
      "/Users/matsusesatoshi/DIVE_2/Unet/data.py:124: UserWarning: data/membrane/test/29_predict.png is a low contrast image\n",
      "  io.imsave(os.path.join(save_path,\"%d_predict.png\"%i),img)\n",
      "Lossy conversion from float32 to uint8. Range [0, 1]. Convert image to uint8 prior to saving to suppress this warning.\n"
     ]
    }
   ],
   "source": [
    "!python main.py"
   ]
  },
  {
   "cell_type": "markdown",
   "metadata": {},
   "source": [
    "# 【問題1】学習・推定\n",
    "以下のKeras実装を使用して学習・推定を行ってください。\n",
    "\n",
    "\n",
    "zhixuhao/unet: unet for image segmentation\n",
    "\n",
    "\n",
    "《GPU環境での学習》\n",
    "\n",
    "\n",
    "大規模なデータセット、大きなモデルになるため、GPUを使用する必要があります。\n",
    "\n",
    "\n",
    "《新たなデータセットの適用》\n",
    "\n",
    "\n",
    "公開されている実装で用意されたものとは異なるデータセットを入力するための準備が必要です。"
   ]
  },
  {
   "cell_type": "code",
   "execution_count": 2,
   "metadata": {
    "colab": {
     "base_uri": "https://localhost:8080/"
    },
    "id": "pzSi12eLXpiM",
    "outputId": "9860b4a1-5cb9-4b32-f7db-eb7018eadd32"
   },
   "outputs": [
    {
     "name": "stderr",
     "output_type": "stream",
     "text": [
      "Using TensorFlow backend.\n"
     ]
    }
   ],
   "source": [
    "from model import *\n",
    "from data import *"
   ]
  },
  {
   "cell_type": "code",
   "execution_count": 3,
   "metadata": {
    "colab": {
     "base_uri": "https://localhost:8080/"
    },
    "id": "t0IvWP09g0ei",
    "outputId": "78d62ea0-7454-44ce-8661-7315a01c55b6"
   },
   "outputs": [
    {
     "name": "stdout",
     "output_type": "stream",
     "text": [
      "WARNING:tensorflow:From /opt/anaconda3/envs/sinpson/lib/python3.6/site-packages/keras/backend/tensorflow_backend.py:74: The name tf.get_default_graph is deprecated. Please use tf.compat.v1.get_default_graph instead.\n",
      "\n",
      "WARNING:tensorflow:From /opt/anaconda3/envs/sinpson/lib/python3.6/site-packages/keras/backend/tensorflow_backend.py:517: The name tf.placeholder is deprecated. Please use tf.compat.v1.placeholder instead.\n",
      "\n",
      "WARNING:tensorflow:From /opt/anaconda3/envs/sinpson/lib/python3.6/site-packages/keras/backend/tensorflow_backend.py:4185: The name tf.truncated_normal is deprecated. Please use tf.random.truncated_normal instead.\n",
      "\n",
      "WARNING:tensorflow:From /opt/anaconda3/envs/sinpson/lib/python3.6/site-packages/keras/backend/tensorflow_backend.py:3976: The name tf.nn.max_pool is deprecated. Please use tf.nn.max_pool2d instead.\n",
      "\n",
      "WARNING:tensorflow:From /opt/anaconda3/envs/sinpson/lib/python3.6/site-packages/keras/backend/tensorflow_backend.py:133: The name tf.placeholder_with_default is deprecated. Please use tf.compat.v1.placeholder_with_default instead.\n",
      "\n",
      "WARNING:tensorflow:From /opt/anaconda3/envs/sinpson/lib/python3.6/site-packages/keras/backend/tensorflow_backend.py:3445: calling dropout (from tensorflow.python.ops.nn_ops) with keep_prob is deprecated and will be removed in a future version.\n",
      "Instructions for updating:\n",
      "Please use `rate` instead of `keep_prob`. Rate should be set to `rate = 1 - keep_prob`.\n",
      "WARNING:tensorflow:From /opt/anaconda3/envs/sinpson/lib/python3.6/site-packages/keras/backend/tensorflow_backend.py:2018: The name tf.image.resize_nearest_neighbor is deprecated. Please use tf.compat.v1.image.resize_nearest_neighbor instead.\n",
      "\n",
      "WARNING:tensorflow:From /opt/anaconda3/envs/sinpson/lib/python3.6/site-packages/keras/backend/tensorflow_backend.py:4138: The name tf.random_uniform is deprecated. Please use tf.random.uniform instead.\n",
      "\n",
      "WARNING:tensorflow:From /opt/anaconda3/envs/sinpson/lib/python3.6/site-packages/keras/optimizers.py:790: The name tf.train.Optimizer is deprecated. Please use tf.compat.v1.train.Optimizer instead.\n",
      "\n",
      "WARNING:tensorflow:From /opt/anaconda3/envs/sinpson/lib/python3.6/site-packages/keras/backend/tensorflow_backend.py:3376: The name tf.log is deprecated. Please use tf.math.log instead.\n",
      "\n",
      "WARNING:tensorflow:From /opt/anaconda3/envs/sinpson/lib/python3.6/site-packages/tensorflow_core/python/ops/nn_impl.py:183: where (from tensorflow.python.ops.array_ops) is deprecated and will be removed in a future version.\n",
      "Instructions for updating:\n",
      "Use tf.where in 2.0, which has the same broadcast rule as np.where\n"
     ]
    },
    {
     "name": "stderr",
     "output_type": "stream",
     "text": [
      "/Users/matsusesatoshi/DIVE_2/Unet/model.py:55: UserWarning: Update your `Model` call to the Keras 2 API: `Model(inputs=Tensor(\"in..., outputs=Tensor(\"co...)`\n",
      "  model = Model(input = inputs, output = conv10)\n"
     ]
    },
    {
     "name": "stdout",
     "output_type": "stream",
     "text": [
      "WARNING:tensorflow:From /opt/anaconda3/envs/sinpson/lib/python3.6/site-packages/keras/backend/tensorflow_backend.py:986: The name tf.assign_add is deprecated. Please use tf.compat.v1.assign_add instead.\n",
      "\n",
      "WARNING:tensorflow:From /opt/anaconda3/envs/sinpson/lib/python3.6/site-packages/keras/backend/tensorflow_backend.py:973: The name tf.assign is deprecated. Please use tf.compat.v1.assign instead.\n",
      "\n",
      "WARNING:tensorflow:From /opt/anaconda3/envs/sinpson/lib/python3.6/site-packages/keras/backend/tensorflow_backend.py:2741: The name tf.Session is deprecated. Please use tf.compat.v1.Session instead.\n",
      "\n",
      "Epoch 1/1\n",
      "Found 30 images belonging to 1 classes.\n",
      "Found 30 images belonging to 1 classes.\n",
      "WARNING:tensorflow:From /opt/anaconda3/envs/sinpson/lib/python3.6/site-packages/keras/backend/tensorflow_backend.py:174: The name tf.get_default_session is deprecated. Please use tf.compat.v1.get_default_session instead.\n",
      "\n",
      "WARNING:tensorflow:From /opt/anaconda3/envs/sinpson/lib/python3.6/site-packages/keras/backend/tensorflow_backend.py:181: The name tf.ConfigProto is deprecated. Please use tf.compat.v1.ConfigProto instead.\n",
      "\n",
      "WARNING:tensorflow:From /opt/anaconda3/envs/sinpson/lib/python3.6/site-packages/keras/backend/tensorflow_backend.py:190: The name tf.global_variables is deprecated. Please use tf.compat.v1.global_variables instead.\n",
      "\n",
      "WARNING:tensorflow:From /opt/anaconda3/envs/sinpson/lib/python3.6/site-packages/keras/backend/tensorflow_backend.py:199: The name tf.is_variable_initialized is deprecated. Please use tf.compat.v1.is_variable_initialized instead.\n",
      "\n",
      "WARNING:tensorflow:From /opt/anaconda3/envs/sinpson/lib/python3.6/site-packages/keras/backend/tensorflow_backend.py:206: The name tf.variables_initializer is deprecated. Please use tf.compat.v1.variables_initializer instead.\n",
      "\n",
      "2000/2000 [==============================] - 7009s 4s/step - loss: 0.6675 - acc: 0.7812\n",
      "\n",
      "Epoch 00001: loss improved from inf to 0.66745, saving model to unet_membrane.hdf5\n"
     ]
    },
    {
     "data": {
      "text/plain": [
       "<keras.callbacks.History at 0x7fb6c3f672b0>"
      ]
     },
     "execution_count": 3,
     "metadata": {},
     "output_type": "execute_result"
    }
   ],
   "source": [
    "data_gen_args = dict(rotation_range=0.2,\n",
    "                    width_shift_range=0.05,\n",
    "                    height_shift_range=0.05,\n",
    "                    shear_range=0.05,\n",
    "                    zoom_range=0.05,\n",
    "                    horizontal_flip=True,\n",
    "                    fill_mode='nearest')\n",
    "myGene = trainGenerator(2,'data/membrane/train','image','label',data_gen_args,save_to_dir = None)\n",
    "model = unet()\n",
    "model_checkpoint = ModelCheckpoint('unet_membrane.hdf5', monitor='loss',verbose=1, save_best_only=True)\n",
    "model.fit_generator(myGene,steps_per_epoch=2000,epochs=1,callbacks=[model_checkpoint])"
   ]
  },
  {
   "cell_type": "code",
   "execution_count": 4,
   "metadata": {
    "id": "8b78Av4Ng3qV"
   },
   "outputs": [
    {
     "name": "stdout",
     "output_type": "stream",
     "text": [
      "30/30 [==============================] - 13s 434ms/step\n"
     ]
    },
    {
     "name": "stderr",
     "output_type": "stream",
     "text": [
      "/Users/matsusesatoshi/DIVE_2/Unet/data.py:124: UserWarning: data/membrane/test/0_predict.png is a low contrast image\n",
      "  io.imsave(os.path.join(save_path,\"%d_predict.png\"%i),img)\n",
      "Lossy conversion from float32 to uint8. Range [0, 1]. Convert image to uint8 prior to saving to suppress this warning.\n",
      "/Users/matsusesatoshi/DIVE_2/Unet/data.py:124: UserWarning: data/membrane/test/1_predict.png is a low contrast image\n",
      "  io.imsave(os.path.join(save_path,\"%d_predict.png\"%i),img)\n",
      "Lossy conversion from float32 to uint8. Range [0, 1]. Convert image to uint8 prior to saving to suppress this warning.\n",
      "/Users/matsusesatoshi/DIVE_2/Unet/data.py:124: UserWarning: data/membrane/test/2_predict.png is a low contrast image\n",
      "  io.imsave(os.path.join(save_path,\"%d_predict.png\"%i),img)\n",
      "Lossy conversion from float32 to uint8. Range [0, 1]. Convert image to uint8 prior to saving to suppress this warning.\n",
      "/Users/matsusesatoshi/DIVE_2/Unet/data.py:124: UserWarning: data/membrane/test/3_predict.png is a low contrast image\n",
      "  io.imsave(os.path.join(save_path,\"%d_predict.png\"%i),img)\n",
      "Lossy conversion from float32 to uint8. Range [0, 1]. Convert image to uint8 prior to saving to suppress this warning.\n",
      "/Users/matsusesatoshi/DIVE_2/Unet/data.py:124: UserWarning: data/membrane/test/4_predict.png is a low contrast image\n",
      "  io.imsave(os.path.join(save_path,\"%d_predict.png\"%i),img)\n",
      "Lossy conversion from float32 to uint8. Range [0, 1]. Convert image to uint8 prior to saving to suppress this warning.\n",
      "/Users/matsusesatoshi/DIVE_2/Unet/data.py:124: UserWarning: data/membrane/test/5_predict.png is a low contrast image\n",
      "  io.imsave(os.path.join(save_path,\"%d_predict.png\"%i),img)\n",
      "Lossy conversion from float32 to uint8. Range [0, 1]. Convert image to uint8 prior to saving to suppress this warning.\n",
      "/Users/matsusesatoshi/DIVE_2/Unet/data.py:124: UserWarning: data/membrane/test/6_predict.png is a low contrast image\n",
      "  io.imsave(os.path.join(save_path,\"%d_predict.png\"%i),img)\n",
      "Lossy conversion from float32 to uint8. Range [0, 1]. Convert image to uint8 prior to saving to suppress this warning.\n",
      "/Users/matsusesatoshi/DIVE_2/Unet/data.py:124: UserWarning: data/membrane/test/7_predict.png is a low contrast image\n",
      "  io.imsave(os.path.join(save_path,\"%d_predict.png\"%i),img)\n",
      "Lossy conversion from float32 to uint8. Range [0, 1]. Convert image to uint8 prior to saving to suppress this warning.\n",
      "/Users/matsusesatoshi/DIVE_2/Unet/data.py:124: UserWarning: data/membrane/test/8_predict.png is a low contrast image\n",
      "  io.imsave(os.path.join(save_path,\"%d_predict.png\"%i),img)\n",
      "Lossy conversion from float32 to uint8. Range [0, 1]. Convert image to uint8 prior to saving to suppress this warning.\n",
      "/Users/matsusesatoshi/DIVE_2/Unet/data.py:124: UserWarning: data/membrane/test/9_predict.png is a low contrast image\n",
      "  io.imsave(os.path.join(save_path,\"%d_predict.png\"%i),img)\n",
      "Lossy conversion from float32 to uint8. Range [0, 1]. Convert image to uint8 prior to saving to suppress this warning.\n",
      "/Users/matsusesatoshi/DIVE_2/Unet/data.py:124: UserWarning: data/membrane/test/10_predict.png is a low contrast image\n",
      "  io.imsave(os.path.join(save_path,\"%d_predict.png\"%i),img)\n",
      "Lossy conversion from float32 to uint8. Range [0, 1]. Convert image to uint8 prior to saving to suppress this warning.\n",
      "/Users/matsusesatoshi/DIVE_2/Unet/data.py:124: UserWarning: data/membrane/test/11_predict.png is a low contrast image\n",
      "  io.imsave(os.path.join(save_path,\"%d_predict.png\"%i),img)\n",
      "Lossy conversion from float32 to uint8. Range [0, 1]. Convert image to uint8 prior to saving to suppress this warning.\n",
      "/Users/matsusesatoshi/DIVE_2/Unet/data.py:124: UserWarning: data/membrane/test/12_predict.png is a low contrast image\n",
      "  io.imsave(os.path.join(save_path,\"%d_predict.png\"%i),img)\n",
      "Lossy conversion from float32 to uint8. Range [0, 1]. Convert image to uint8 prior to saving to suppress this warning.\n",
      "/Users/matsusesatoshi/DIVE_2/Unet/data.py:124: UserWarning: data/membrane/test/13_predict.png is a low contrast image\n",
      "  io.imsave(os.path.join(save_path,\"%d_predict.png\"%i),img)\n",
      "Lossy conversion from float32 to uint8. Range [0, 1]. Convert image to uint8 prior to saving to suppress this warning.\n",
      "/Users/matsusesatoshi/DIVE_2/Unet/data.py:124: UserWarning: data/membrane/test/14_predict.png is a low contrast image\n",
      "  io.imsave(os.path.join(save_path,\"%d_predict.png\"%i),img)\n",
      "Lossy conversion from float32 to uint8. Range [0, 1]. Convert image to uint8 prior to saving to suppress this warning.\n",
      "/Users/matsusesatoshi/DIVE_2/Unet/data.py:124: UserWarning: data/membrane/test/15_predict.png is a low contrast image\n",
      "  io.imsave(os.path.join(save_path,\"%d_predict.png\"%i),img)\n",
      "Lossy conversion from float32 to uint8. Range [0, 1]. Convert image to uint8 prior to saving to suppress this warning.\n",
      "/Users/matsusesatoshi/DIVE_2/Unet/data.py:124: UserWarning: data/membrane/test/16_predict.png is a low contrast image\n",
      "  io.imsave(os.path.join(save_path,\"%d_predict.png\"%i),img)\n",
      "Lossy conversion from float32 to uint8. Range [0, 1]. Convert image to uint8 prior to saving to suppress this warning.\n",
      "/Users/matsusesatoshi/DIVE_2/Unet/data.py:124: UserWarning: data/membrane/test/17_predict.png is a low contrast image\n",
      "  io.imsave(os.path.join(save_path,\"%d_predict.png\"%i),img)\n",
      "Lossy conversion from float32 to uint8. Range [0, 1]. Convert image to uint8 prior to saving to suppress this warning.\n",
      "/Users/matsusesatoshi/DIVE_2/Unet/data.py:124: UserWarning: data/membrane/test/18_predict.png is a low contrast image\n",
      "  io.imsave(os.path.join(save_path,\"%d_predict.png\"%i),img)\n",
      "Lossy conversion from float32 to uint8. Range [0, 1]. Convert image to uint8 prior to saving to suppress this warning.\n",
      "/Users/matsusesatoshi/DIVE_2/Unet/data.py:124: UserWarning: data/membrane/test/19_predict.png is a low contrast image\n",
      "  io.imsave(os.path.join(save_path,\"%d_predict.png\"%i),img)\n",
      "Lossy conversion from float32 to uint8. Range [0, 1]. Convert image to uint8 prior to saving to suppress this warning.\n",
      "/Users/matsusesatoshi/DIVE_2/Unet/data.py:124: UserWarning: data/membrane/test/20_predict.png is a low contrast image\n",
      "  io.imsave(os.path.join(save_path,\"%d_predict.png\"%i),img)\n",
      "Lossy conversion from float32 to uint8. Range [0, 1]. Convert image to uint8 prior to saving to suppress this warning.\n",
      "/Users/matsusesatoshi/DIVE_2/Unet/data.py:124: UserWarning: data/membrane/test/21_predict.png is a low contrast image\n",
      "  io.imsave(os.path.join(save_path,\"%d_predict.png\"%i),img)\n",
      "Lossy conversion from float32 to uint8. Range [0, 1]. Convert image to uint8 prior to saving to suppress this warning.\n",
      "/Users/matsusesatoshi/DIVE_2/Unet/data.py:124: UserWarning: data/membrane/test/22_predict.png is a low contrast image\n",
      "  io.imsave(os.path.join(save_path,\"%d_predict.png\"%i),img)\n",
      "Lossy conversion from float32 to uint8. Range [0, 1]. Convert image to uint8 prior to saving to suppress this warning.\n",
      "/Users/matsusesatoshi/DIVE_2/Unet/data.py:124: UserWarning: data/membrane/test/23_predict.png is a low contrast image\n",
      "  io.imsave(os.path.join(save_path,\"%d_predict.png\"%i),img)\n",
      "Lossy conversion from float32 to uint8. Range [0, 1]. Convert image to uint8 prior to saving to suppress this warning.\n",
      "/Users/matsusesatoshi/DIVE_2/Unet/data.py:124: UserWarning: data/membrane/test/24_predict.png is a low contrast image\n",
      "  io.imsave(os.path.join(save_path,\"%d_predict.png\"%i),img)\n",
      "Lossy conversion from float32 to uint8. Range [0, 1]. Convert image to uint8 prior to saving to suppress this warning.\n",
      "/Users/matsusesatoshi/DIVE_2/Unet/data.py:124: UserWarning: data/membrane/test/25_predict.png is a low contrast image\n",
      "  io.imsave(os.path.join(save_path,\"%d_predict.png\"%i),img)\n",
      "Lossy conversion from float32 to uint8. Range [0, 1]. Convert image to uint8 prior to saving to suppress this warning.\n",
      "/Users/matsusesatoshi/DIVE_2/Unet/data.py:124: UserWarning: data/membrane/test/26_predict.png is a low contrast image\n",
      "  io.imsave(os.path.join(save_path,\"%d_predict.png\"%i),img)\n",
      "Lossy conversion from float32 to uint8. Range [0, 1]. Convert image to uint8 prior to saving to suppress this warning.\n",
      "/Users/matsusesatoshi/DIVE_2/Unet/data.py:124: UserWarning: data/membrane/test/27_predict.png is a low contrast image\n",
      "  io.imsave(os.path.join(save_path,\"%d_predict.png\"%i),img)\n",
      "Lossy conversion from float32 to uint8. Range [0, 1]. Convert image to uint8 prior to saving to suppress this warning.\n",
      "/Users/matsusesatoshi/DIVE_2/Unet/data.py:124: UserWarning: data/membrane/test/28_predict.png is a low contrast image\n",
      "  io.imsave(os.path.join(save_path,\"%d_predict.png\"%i),img)\n",
      "Lossy conversion from float32 to uint8. Range [0, 1]. Convert image to uint8 prior to saving to suppress this warning.\n",
      "/Users/matsusesatoshi/DIVE_2/Unet/data.py:124: UserWarning: data/membrane/test/29_predict.png is a low contrast image\n",
      "  io.imsave(os.path.join(save_path,\"%d_predict.png\"%i),img)\n",
      "Lossy conversion from float32 to uint8. Range [0, 1]. Convert image to uint8 prior to saving to suppress this warning.\n"
     ]
    }
   ],
   "source": [
    "testGene = testGenerator(\"data/membrane/test\")\n",
    "model = unet()\n",
    "model.load_weights(\"unet_membrane.hdf5\")\n",
    "results = model.predict_generator(testGene,30,verbose=1)\n",
    "saveResult(\"data/membrane/test\",results)"
   ]
  },
  {
   "cell_type": "markdown",
   "metadata": {},
   "source": [
    "# 【問題2】コードリーディング\n",
    "論文[1]に目を通した上で、上記実装のコードリーディングを行ってください。"
   ]
  },
  {
   "cell_type": "markdown",
   "metadata": {
    "id": "RjjgoO7KUsMD"
   },
   "source": [
    "ランタイムの限界\n",
    "\n",
    "CNNの畳み込み層、プーリング層を重ねて行い、画像の特徴量をch方向に重ねる事でエッジ等の重要な情報だけを抜き出す。  \n",
    "通常であれば、そのあと全結合層にいれて分類問題を解くためのNNとするが、ここでは畳み込み層のまま出力する。  \n",
    "ここから、逆畳み込み層を導入して画像を元のサイズまで復元していく事を目的としている。  \n",
    "その際、同サイズの元の画像を入力させる事で推定領域を細かなピクセル単位で出力することが可能となる\n",
    "\n",
    "![Imgur](https://i.imgur.com/epmktcDh.png)"
   ]
  },
  {
   "cell_type": "code",
   "execution_count": null,
   "metadata": {
    "id": "8zXP_93uhUkT"
   },
   "outputs": [],
   "source": []
  },
  {
   "cell_type": "code",
   "execution_count": null,
   "metadata": {},
   "outputs": [],
   "source": []
  }
 ],
 "metadata": {
  "colab": {
   "collapsed_sections": [],
   "name": "Unet.ipynb",
   "provenance": []
  },
  "kernelspec": {
   "display_name": "Python 3",
   "language": "python",
   "name": "python3"
  },
  "language_info": {
   "codemirror_mode": {
    "name": "ipython",
    "version": 3
   },
   "file_extension": ".py",
   "mimetype": "text/x-python",
   "name": "python",
   "nbconvert_exporter": "python",
   "pygments_lexer": "ipython3",
   "version": "3.6.13"
  }
 },
 "nbformat": 4,
 "nbformat_minor": 4
}
